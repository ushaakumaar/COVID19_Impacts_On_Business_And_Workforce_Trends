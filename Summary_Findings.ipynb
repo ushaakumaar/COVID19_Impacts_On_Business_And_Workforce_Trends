{
 "cells": [
  {
   "cell_type": "markdown",
   "metadata": {},
   "source": [
    "***\n",
    "# Project Title:   COVID-19 Impacts on Business and Workforce Trends \n",
    "***\n",
    "> # Summary Findings:\n",
    "***"
   ]
  },
  {
   "cell_type": "markdown",
   "metadata": {},
   "source": [
    "***\n",
    "## Question 1: What effect has COVID-19 had on unemployment rates?\n",
    "***\n",
    "\n",
    "## Unemployment rates were examinined pre- and post-COVID-19 by:\n",
    "\n",
    ">  1. Race \n",
    ">  2. Establishments/Businesses/Firms \n",
    ">  3. State unemployment \n",
    "\n"
   ]
  },
  {
   "cell_type": "markdown",
   "metadata": {},
   "source": [
    "## 1. Analysis of unemployment by race:\n",
    "\n",
    "\n",
    ">We performed analyses to determine which race group was most impacted by the COVID-19 pandemic when it came to unemployment. Pre-COVID unemployment rates were highest among Blacks, however, the pandemic impacted Hispanics the most, the latter had a 12.9% increase from March to April, while the former had an increase of 10%. Although Whites and Asians also had approximately 10 % increases, their pre-COVID rates were lower than Blacks and Hispanics. By September 2020, unemployment rates for Blacks surpassed all other groups. The drop in unemployment for this group from the peak of the pandemic was only 4.6%, whereas Hispanics had a decrease of 8.6%, Whites had 7.2%, and Asians had 5.6%. The rates of decline in unemployment after May 2020 appeared to be uniform across all the groups.\n",
    "\n",
    "### See plot below of unemplyment rates for different races:"
   ]
  },
  {
   "cell_type": "markdown",
   "metadata": {},
   "source": [
    "![Race Line Plot](Images/race_lineplot.png)"
   ]
  },
  {
   "cell_type": "markdown",
   "metadata": {},
   "source": [
    "## 2. Analysis of unemployment by industry:\n",
    "\n",
    ">We performed data analyses of unemployment rates due to the COVID-19 pandemic. The following data were categorized by industry. The motion picture and sound recording industry had the highest unemployment rate during COVID-19 at 39.6%, while the hospital industry had the lowest unemployment rate (< 5%). Food/drink services had the greatest immediate increase in unemployment in April 2020 but it rapidly decreased (19%) by September. On the other hand, unemployment in the beverage and tobacco industry went up and down during the pandemic. Oil and gas was the only industry with a steadily increasing average unemployment during the pandemic. Peak unemployment during the pandemic occurred between March and June 2020 after which all the industries started to see decreases. The three industries with the highest unemployment by September 2020 had increases of between 10 to 15% from the previous year. \n",
    "\n",
    "### See plot below of unemplyment rate for various industries:"
   ]
  },
  {
   "cell_type": "markdown",
   "metadata": {},
   "source": [
    "![Industry Line Plot](Images/industry_lineplot.png)"
   ]
  },
  {
   "cell_type": "markdown",
   "metadata": {},
   "source": [
    "## 3. Analysis of unemployment by state:\n",
    "\n",
    ">An analysis was performed to determine the rates of unemployment by state. Three states had unemployment greater than 20% due to COVID-19, Nevada, Michigan and Hawaii. The rates peaked in April and May 2020 for most states and started decreasing by July, except for a few states like Connecticut, New York, and Colorado, which had peak unemployment in July. Three states with high unemployment, New York, Massachusetts, and California are all international points of entry for Europe and East Asia. Idaho had the lowest rates by August (4.2%), this tracked with its generally lower rates before the pandemic. New York, California, Hawaii, and Illinois had the highest rates in August. There was an 8.3% difference between the state with the highest and lowest unemployment rates. \n",
    "\n",
    "### See plot below of unemplyment rate for states:"
   ]
  },
  {
   "cell_type": "markdown",
   "metadata": {},
   "source": [
    "![States Line Plot](Images/states_interested_lineplot.png)"
   ]
  },
  {
   "cell_type": "markdown",
   "metadata": {},
   "source": [
    "***\n",
    "## Question 1 Data Source:\n",
    "***\n",
    "\n",
    ">* Data was collected from the U.S. Bureau of Labor Statistics: [Unemployment Rates by Races](https://beta.bls.gov/dataQuery/find?st=0&r=20&q=unemployment&more=0&fq=cg:%5BUnemployment+and+Labor+Force+Status%5D) through Unemployment and Labor Force Status.\n",
    ">* Data was collected from the U.S. Bureau of Labor Statistics: [Unemployment Rates by Industry](https://beta.bls.gov/dataQuery/find?st=0&r=20&q=unemployment&more=0&fq=cg:%5BEstablishments%2FBusinesses%2FFirms%5D) through Establishment/Businesses/Firms. \n",
    ">* Data was collected from the U.S. Bureau of Labor Statistics: [Unemplyment Rates by State](https://beta.bls.gov/dataQuery/find?st=0&r=20&q=unemployment&more=0&fq=cg:%5BGeography%5D) through Geography."
   ]
  },
  {
   "cell_type": "markdown",
   "metadata": {},
   "source": [
    "***\n",
    "## Question 2: Which businesses most benefited/affected by COVID?\n",
    "***\n",
    "\n",
    "> After collection and analysis, the stock data was parsed out by the top ten performing companies and the ten companies with the worst performance. \n",
    "\n",
    "***\n",
    "## Analysis of the top ten performing companies during COVID-19:\n",
    "***\n",
    "\n",
    ">These data were analyzed across the eight months from before the pandemic to the present time. Of the top ten performing companies during the pandemic, three specialized in diagnostic tests or vaccine development, these had the highest stock price increases from March until the end of June with only the vaccine development company continuing to increase in price through October. Of the other seven companies, a gym equipment supplier, an internet retailer, a fuel alternatives company and a solar power company showed basically no increase in their stock prices in March, and thereafter, only the gym equipment supplier and internet retailer had an increase through June. However, by October, all four of these companies showed greater increases. The remaining three companies, which included one that specialized in clinical oncology development and two in biotechnology, had steady gains between March and October. It appears the success of these companies is based on urgent services provided to deal with the pandemic in terms of the development of treatments and a vaccine, and the growing change in the personal (e.g., shopping, exercise) and professional habits of people during the lock down. The data also suggest that there was increased emphasis on alternative energy sources, which might indicate the heightened economic uncertainty that was prevalent during the pandemic.  \n",
    "***\n",
    "\n",
    "### See plot below of stock price percent changes for the top 10 performing businesses:"
   ]
  },
  {
   "cell_type": "markdown",
   "metadata": {},
   "source": [
    "![Top 10 Line Plot](Images/top_10_business_lineplot.png)"
   ]
  },
  {
   "cell_type": "markdown",
   "metadata": {},
   "source": [
    "***\n",
    "## Analysis of the worst performing companies during COVID-19\n",
    "***\n",
    "\n",
    ">In addition to the data on the ten companies with the best performing stocks during the pandemic, below is a figure showing the ten worst performing stocks during the same period. By March, three companies, one specializing in shipping and transport, one in the mining of gold and silver, and the last in hospitality had a smaller decrease in stock price than the other seven. Thereafter, only the mining company continued to experience a decrease in its stock price through June. The remaining seven companies, which included four oil and gas production companies, one gold and silver mining company, one real estate firm, and one drug development company, had drops in stock prices in March ranging from 92 to 98%. Only one of these seven companies, which had a greater focus on gas exploration and alternative fuels, had a rebound in its stock prices by June. By October, stock from all ten companies had decreased by approximately 100%. These losses, particularly in the oil and gas production companies, likely reflect the stay-at-home practices of many Americans and the significant decrease in travel. Other downturns indicate the overall shrinkage in the economy.\n",
    "***\n",
    "\n",
    "### See plot below of stock price percent changes for the worst 10 performing businesses:"
   ]
  },
  {
   "cell_type": "markdown",
   "metadata": {},
   "source": [
    "![Bottom 10 Line Plot](Images/bottom_10_business_lineplot.png)"
   ]
  },
  {
   "cell_type": "markdown",
   "metadata": {},
   "source": [
    "***\n",
    "## Question 2 Data Source:\n",
    "***\n",
    "\n",
    ">Wrote a [Jupyter Notebook Script](https://github.com/ushaakumaar/Python-Project-1/blob/business-profit-loss/business-stock-retrieval.ipynb) based on the python script available in [kaggle](https://www.kaggle.com/jacksoncrow/download-nasdaq-historical-data) to retrieve all NASDAQ traded stock prices on 2019/12/31(Pre COVID), 2020/03/31, 2020/06/30 and 2020/10/09 into a CSV file for further analysis."
   ]
  },
  {
   "attachments": {},
   "cell_type": "markdown",
   "metadata": {},
   "source": [
    "***\n",
    "## Question 3: What are the impacts of COVID-19 travel restrictions?\n",
    "***"
   ]
  },
  {
   "attachments": {},
   "cell_type": "markdown",
   "metadata": {},
   "source": [
    "***\n",
    "## Question 4: Which is the safest current travel destination in the US?\n",
    "***"
   ]
  },
  {
   "attachments": {},
   "cell_type": "markdown",
   "metadata": {},
   "source": [
    "***\n",
    "## Question 5: How was personal mobility affected by COVID-19? \n",
    "***"
   ]
  },
  {
   "cell_type": "markdown",
   "metadata": {},
   "source": []
  }
 ],
 "metadata": {
  "kernelspec": {
   "display_name": "Python [conda env:PythonData] *",
   "language": "python",
   "name": "conda-env-PythonData-py"
  },
  "language_info": {
   "codemirror_mode": {
    "name": "ipython",
    "version": 3
   },
   "file_extension": ".py",
   "mimetype": "text/x-python",
   "name": "python",
   "nbconvert_exporter": "python",
   "pygments_lexer": "ipython3",
   "version": "3.6.12"
  }
 },
 "nbformat": 4,
 "nbformat_minor": 4
}
